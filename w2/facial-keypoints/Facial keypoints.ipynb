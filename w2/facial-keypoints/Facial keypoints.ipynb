{
 "cells": [
  {
   "cell_type": "markdown",
   "metadata": {},
   "source": [
    "## Facial keypoints detection\n",
    "\n",
    "In this task you will create facial keypoint detector based on CNN regressor.\n",
    "\n",
    "\n",
    "![title](example.png)"
   ]
  },
  {
   "cell_type": "markdown",
   "metadata": {},
   "source": [
    "### Load and preprocess data"
   ]
  },
  {
   "cell_type": "markdown",
   "metadata": {},
   "source": [
    "Script `get_data.py` unpacks data — images and labelled points. 6000 images are located in `images` folder and keypoint coordinates are in `gt.csv` file. Run the cell below to unpack data."
   ]
  },
  {
   "cell_type": "markdown",
   "metadata": {},
   "source": [
    "Now you have to read `gt.csv` file and images from `images` dir. File `gt.csv` contains header and ground truth points for every image in `images` folder. It has 29 columns. First column is a filename and next 28 columns are `x` and `y` coordinates for 14 facepoints. We will make following preprocessing:\n",
    "1. Scale all images to resolution $100 \\times 100$ pixels.\n",
    "2. Scale all coordinates to range $[-0.5; 0.5]$. To obtain that, divide all x's by width (or number of columns) of image, and divide all y's by height (or number of rows) of image and subtract 0.5 from all values.\n",
    "\n",
    "Function `load_imgs_and_keypoint` should return a tuple of two numpy arrays: `imgs` of shape `(N, 100, 100, 3)`, where `N` is the number of images and `points` of shape `(N, 28)`."
   ]
  },
  {
   "cell_type": "code",
   "execution_count": 1,
   "metadata": {},
   "outputs": [],
   "source": [
    "import numpy as np\n",
    "from os.path import join\n",
    "from skimage.color import gray2rgb, rgb2gray\n",
    "from skimage.io import imread\n",
    "from skimage.transform import resize\n",
    "import pandas as pd"
   ]
  },
  {
   "cell_type": "code",
   "execution_count": 2,
   "metadata": {},
   "outputs": [
    {
     "name": "stderr",
     "output_type": "stream",
     "text": [
      "Using TensorFlow backend.\n"
     ]
    }
   ],
   "source": [
    "import keras\n",
    "import tensorflow as tf\n",
    "from keras import backend as K\n",
    "import gc"
   ]
  },
  {
   "cell_type": "code",
   "execution_count": 3,
   "metadata": {},
   "outputs": [],
   "source": [
    "from keras.models import load_model"
   ]
  },
  {
   "cell_type": "code",
   "execution_count": 4,
   "metadata": {},
   "outputs": [],
   "source": [
    "from IPython.display import clear_output\n",
    "import matplotlib.pyplot as plt"
   ]
  },
  {
   "cell_type": "code",
   "execution_count": 5,
   "metadata": {},
   "outputs": [],
   "source": [
    "#IMAGE_SIZE = (197, 197)\n",
    "IMAGE_SIZE = (100, 100)"
   ]
  },
  {
   "cell_type": "code",
   "execution_count": 6,
   "metadata": {},
   "outputs": [],
   "source": [
    "def shift_img(img, img_points, shift_rate=0.2):\n",
    "    img = np.copy(img)\n",
    "    img_points = img_points[:]\n",
    "    \n",
    "    if np.random.rand() < .5:\n",
    "        img = resize(img, (70, 70))\n",
    "        \n",
    "    orig_shape = img.shape[0]\n",
    "    \n",
    "    shift = int( (np.random.rand() * .2 + .8) * shift_rate * orig_shape )\n",
    "    corner = np.random.randint(4)\n",
    "    new_shape = orig_shape - shift\n",
    "    shift_coord = shift / orig_shape\n",
    "    resize_rate = orig_shape / new_shape\n",
    "    \n",
    "    def shift_points(coord, sign):\n",
    "        norm_shift = .5 if sign == 1 else .5 - shift_coord\n",
    "        return (coord - shift_coord * sign + norm_shift) * resize_rate - .5\n",
    "    \n",
    "    if corner == 0:\n",
    "        img = img[shift:, shift:, :]\n",
    "        for i in range(14):\n",
    "            img_points[2*i] = shift_points( img_points[2*i], 1 )\n",
    "            img_points[2*i+1] = shift_points( img_points[2*i+1], 1 )\n",
    "        \n",
    "    elif corner == 1:        \n",
    "        img = img[:-shift, shift:, :]\n",
    "        for i in range(14):            \n",
    "            img_points[2*i] = shift_points( img_points[2*i], 1 )\n",
    "            img_points[2*i+1] = shift_points( img_points[2*i+1], -1 )\n",
    "        \n",
    "    elif corner == 2:        \n",
    "        img = img[:-shift, :-shift, :]\n",
    "        for i in range(14):\n",
    "            img_points[2*i] = shift_points( img_points[2*i], -1 )\n",
    "            img_points[2*i+1] = shift_points( img_points[2*i+1], -1 )\n",
    "        \n",
    "    else:        \n",
    "        img = img[shift:, :-shift, :]\n",
    "        for i in range(14):            \n",
    "            img_points[2*i] = shift_points( img_points[2*i], -1 )\n",
    "            img_points[2*i+1] = shift_points( img_points[2*i+1], 1 )\n",
    "            \n",
    "    return img, img_points"
   ]
  },
  {
   "cell_type": "code",
   "execution_count": 7,
   "metadata": {},
   "outputs": [],
   "source": [
    "def load_imgs_and_keypoints(dirname='data'):\n",
    "    gt = pd.read_csv('data/gt.csv')\n",
    "    imgs = []\n",
    "    points = []\n",
    "    \n",
    "    print(len(gt.index))\n",
    "    \n",
    "    for index, row in gt.iterrows():\n",
    "        #img = gray2rgb(imread('data/images/' + row[\"filename\"]))\n",
    "        img = imread('data/images/' + row[\"filename\"])        \n",
    "        if len(img.shape) > 2:\n",
    "            img = rgb2gray(img)\n",
    "        img = img.reshape((img.shape[0], img.shape[1], 1))        \n",
    "        \n",
    "        img_points = []\n",
    "        for i in range(1, 15):\n",
    "            img_points.append( row[\"x\" + str(i)] / img.shape[1] - .5 )\n",
    "            img_points.append( row[\"y\" + str(i)] / img.shape[0] - .5 )\n",
    "\n",
    "        shifted_img, shifted_img_points = shift_img(img, img_points) \n",
    "        if np.max(np.abs(shifted_img_points)) < 0.49:\n",
    "            shifted_img = resize(shifted_img, IMAGE_SIZE)\n",
    "            imgs.append(shifted_img)\n",
    "            points.append( shifted_img_points )\n",
    "        \n",
    "        img = resize(img, IMAGE_SIZE)\n",
    "        imgs.append(img)\n",
    "        points.append( img_points )\n",
    "        \n",
    "    return np.array(imgs), np.array(points)"
   ]
  },
  {
   "cell_type": "code",
   "execution_count": 8,
   "metadata": {},
   "outputs": [
    {
     "name": "stdout",
     "output_type": "stream",
     "text": [
      "6000\n",
      "(8801, 100, 100, 1)\n",
      "(8801, 28)\n",
      "[-0.48901835 -0.26094817 -0.13278425 -0.21876256  0.06408196 -0.1953261\n",
      "  0.22344985 -0.25626088 -0.4093344  -0.13907861 -0.32965046 -0.14845319\n",
      " -0.21246819 -0.11564216  0.02189634 -0.09220571  0.07345654 -0.12970403\n",
      "  0.17657694 -0.10626758  0.00314718  0.17496987 -0.29683943  0.31558859\n",
      " -0.07184947  0.34371233  0.05939467  0.33902504]\n"
     ]
    }
   ],
   "source": [
    "imgs, points = load_imgs_and_keypoints()\n",
    "print(imgs.shape)\n",
    "print(points.shape)\n",
    "print(points[0])"
   ]
  },
  {
   "cell_type": "code",
   "execution_count": 9,
   "metadata": {},
   "outputs": [
    {
     "data": {
      "text/plain": [
       "array([-0.48901835, -0.26094817, -0.13278425, -0.21876256,  0.06408196,\n",
       "       -0.1953261 ,  0.22344985, -0.25626088, -0.4093344 , -0.13907861,\n",
       "       -0.32965046, -0.14845319, -0.21246819, -0.11564216,  0.02189634,\n",
       "       -0.09220571,  0.07345654, -0.12970403,  0.17657694, -0.10626758,\n",
       "        0.00314718,  0.17496987, -0.29683943,  0.31558859, -0.07184947,\n",
       "        0.34371233,  0.05939467,  0.33902504])"
      ]
     },
     "execution_count": 9,
     "metadata": {},
     "output_type": "execute_result"
    },
    {
     "data": {
      "image/png": "[encoded data removed]",
      "text/plain": [
       "<Figure size 432x288 with 1 Axes>"
      ]
     },
     "metadata": {
      "needs_background": "light"
     },
     "output_type": "display_data"
    }
   ],
   "source": [
    "# Example of output\n",
    "%matplotlib inline\n",
    "from skimage.io import imshow\n",
    "imshow(imgs[0])\n",
    "points[0]"
   ]
  },
  {
   "cell_type": "markdown",
   "metadata": {},
   "source": [
    "### Visualize data"
   ]
  },
  {
   "cell_type": "markdown",
   "metadata": {},
   "source": [
    "Let's prepare a function to visualize points on image. Such function obtains two arguments: an image and a vector of points' coordinates and draws points on image (just like first image in this notebook)."
   ]
  },
  {
   "cell_type": "code",
   "execution_count": 10,
   "metadata": {},
   "outputs": [],
   "source": [
    "def visualize_points(img, points):\n",
    "    imshow(img)\n",
    "    for i in range(14):\n",
    "        plt.scatter( (points[2*i] + .5 )*IMAGE_SIZE[1], (points[2*i + 1] + .5 )*IMAGE_SIZE[0], s=20, c='r')    "
   ]
  },
  {
   "cell_type": "code",
   "execution_count": 11,
   "metadata": {},
   "outputs": [
    {
     "data": {
      "image/png": "[encoded data removed]",
      "text/plain": [
       "<Figure size 432x288 with 1 Axes>"
      ]
     },
     "metadata": {
      "needs_background": "light"
     },
     "output_type": "display_data"
    }
   ],
   "source": [
    "visualize_points(imgs[0], points[0])"
   ]
  },
  {
   "cell_type": "code",
   "execution_count": 12,
   "metadata": {},
   "outputs": [
    {
     "name": "stdout",
     "output_type": "stream",
     "text": [
      "(8801, 100, 100, 1)\n"
     ]
    }
   ],
   "source": [
    "print(imgs.shape)"
   ]
  },
  {
   "cell_type": "markdown",
   "metadata": {},
   "source": [
    "### Train/val split"
   ]
  },
  {
   "cell_type": "markdown",
   "metadata": {},
   "source": [
    "Run the following code to obtain train/validation split for training neural network."
   ]
  },
  {
   "cell_type": "code",
   "execution_count": 13,
   "metadata": {},
   "outputs": [],
   "source": [
    "from sklearn.model_selection import train_test_split\n",
    "imgs_train, imgs_val, points_train, points_val = train_test_split(imgs, points, test_size=0.1, random_state=17)"
   ]
  },
  {
   "cell_type": "code",
   "execution_count": 14,
   "metadata": {},
   "outputs": [],
   "source": [
    "del imgs\n",
    "del points"
   ]
  },
  {
   "cell_type": "markdown",
   "metadata": {},
   "source": [
    "### Simple data augmentation"
   ]
  },
  {
   "cell_type": "markdown",
   "metadata": {},
   "source": [
    "For better training we will use simple data augmentation — flipping an image and points. Implement function flip_img which flips an image and its' points. Make sure that points are flipped correctly! For instance, points on right eye now should be points on left eye (i.e. you have to mirror coordinates and swap corresponding points on the left and right sides of the face). VIsualize an example of original and flipped image."
   ]
  },
  {
   "cell_type": "code",
   "execution_count": 15,
   "metadata": {},
   "outputs": [],
   "source": [
    "def flip_img(img, points):\n",
    "    f_points = np.zeros(points.shape)\n",
    "    f_points[:] = points\n",
    "    for i in range(14):\n",
    "        f_points[2*i] = -1 * f_points[2*i] \n",
    "    f_img = np.flip(img, axis=1)\n",
    "    return f_img, f_points"
   ]
  },
  {
   "cell_type": "markdown",
   "metadata": {},
   "source": [
    "Time to augment our training sample. Apply flip to every image in training sample. As a result you should obtain two arrays: `aug_imgs_train` and `aug_points_train` which contain original images and points along with flipped ones."
   ]
  },
  {
   "cell_type": "code",
   "execution_count": 16,
   "metadata": {},
   "outputs": [],
   "source": [
    "aug_imgs_train, aug_points_train = [], []\n",
    "\n",
    "for i in range(len(imgs_train)):\n",
    "    f_img, f_points = flip_img(imgs_train[i], points_train[i])\n",
    "    aug_imgs_train.append(f_img)\n",
    "    aug_points_train.append(f_points)\n",
    "    \n",
    "aug_imgs_train, aug_points_train = np.array(aug_imgs_train), np.array(aug_points_train)"
   ]
  },
  {
   "cell_type": "code",
   "execution_count": 17,
   "metadata": {},
   "outputs": [
    {
     "data": {
      "image/png": "[encoded data removed]",
      "text/plain": [
       "<Figure size 432x288 with 1 Axes>"
      ]
     },
     "metadata": {
      "needs_background": "light"
     },
     "output_type": "display_data"
    }
   ],
   "source": [
    "visualize_points(aug_imgs_train[2], aug_points_train[2])"
   ]
  },
  {
   "cell_type": "code",
   "execution_count": 18,
   "metadata": {},
   "outputs": [
    {
     "data": {
      "image/png": "[encoded data removed]",
      "text/plain": [
       "<Figure size 432x288 with 1 Axes>"
      ]
     },
     "metadata": {
      "needs_background": "light"
     },
     "output_type": "display_data"
    }
   ],
   "source": [
    "id = 15\n",
    "visualize_points(aug_imgs_train[id], aug_points_train[id])"
   ]
  },
  {
   "cell_type": "code",
   "execution_count": 19,
   "metadata": {},
   "outputs": [
    {
     "name": "stdout",
     "output_type": "stream",
     "text": [
      "(7920, 100, 100, 1)\n",
      "(7920, 28)\n",
      "(15840, 100, 100, 1)\n",
      "(15840, 28)\n"
     ]
    }
   ],
   "source": [
    "print(imgs_train.shape)\n",
    "print(points_train.shape)\n",
    "imgs_train_ = imgs_train\n",
    "points_train_ = points_train\n",
    "imgs_train = np.concatenate((imgs_train, aug_imgs_train), axis=0)\n",
    "points_train = np.concatenate((points_train, aug_points_train), axis=0)\n",
    "print(imgs_train.shape)\n",
    "print(points_train.shape)\n",
    "del imgs_train_\n",
    "del points_train_"
   ]
  },
  {
   "cell_type": "code",
   "execution_count": 20,
   "metadata": {},
   "outputs": [],
   "source": [
    "# additional test set:\n",
    "with open('facerecogn_images.npy', 'rb') as f:\n",
    "    facerecogn_images = np.load(f)"
   ]
  },
  {
   "cell_type": "code",
   "execution_count": 21,
   "metadata": {},
   "outputs": [],
   "source": [
    "#facerecogn_images = np.array([ resize(img, IMAGE_SIZE) for img in facerecogn_images ])\n",
    "facerecogn_images = np.array([ rgb2gray(resize( img, IMAGE_SIZE)).reshape((IMAGE_SIZE[0], IMAGE_SIZE[1], 1))  for img in facerecogn_images ])"
   ]
  },
  {
   "cell_type": "code",
   "execution_count": 22,
   "metadata": {},
   "outputs": [],
   "source": [
    "def resnet_preprocess(imgs):\n",
    "    return np.array([ keras.applications.resnet50.preprocess_input( np.copy(img) ) for img in imgs ])"
   ]
  },
  {
   "cell_type": "code",
   "execution_count": 23,
   "metadata": {},
   "outputs": [],
   "source": [
    "#model_input_imgs_train = resnet_preprocess(imgs_train)\n",
    "#model_input_imgs_val = resnet_preprocess(imgs_val)\n",
    "#model_input_facerecogn_images = resnet_preprocess(facerecogn_images)\n",
    "model_input_imgs_train = imgs_train\n",
    "model_input_imgs_val = imgs_val\n",
    "model_input_facerecogn_images = facerecogn_images"
   ]
  },
  {
   "cell_type": "code",
   "execution_count": 24,
   "metadata": {},
   "outputs": [
    {
     "data": {
      "text/plain": [
       "<matplotlib.image.AxesImage at 0x1e9000d0f48>"
      ]
     },
     "execution_count": 24,
     "metadata": {},
     "output_type": "execute_result"
    },
    {
     "data": {
      "image/png": "[encoded data removed]",
      "text/plain": [
       "<Figure size 432x288 with 1 Axes>"
      ]
     },
     "metadata": {
      "needs_background": "light"
     },
     "output_type": "display_data"
    }
   ],
   "source": [
    "imshow(imgs_train[0])"
   ]
  },
  {
   "cell_type": "code",
   "execution_count": 25,
   "metadata": {},
   "outputs": [
    {
     "data": {
      "text/plain": [
       "<matplotlib.image.AxesImage at 0x1e900133dc8>"
      ]
     },
     "execution_count": 25,
     "metadata": {},
     "output_type": "execute_result"
    },
    {
     "data": {
      "image/png": "[encoded data removed]",
      "text/plain": [
       "<Figure size 432x288 with 1 Axes>"
      ]
     },
     "metadata": {
      "needs_background": "light"
     },
     "output_type": "display_data"
    }
   ],
   "source": [
    "imshow(imgs_val[0])"
   ]
  },
  {
   "cell_type": "code",
   "execution_count": 26,
   "metadata": {},
   "outputs": [
    {
     "data": {
      "text/plain": [
       "<matplotlib.image.AxesImage at 0x1e900197548>"
      ]
     },
     "execution_count": 26,
     "metadata": {},
     "output_type": "execute_result"
    },
    {
     "data": {
      "image/png": "[encoded data removed]",
      "text/plain": [
       "<Figure size 432x288 with 1 Axes>"
      ]
     },
     "metadata": {
      "needs_background": "light"
     },
     "output_type": "display_data"
    }
   ],
   "source": [
    "imshow(facerecogn_images[0])"
   ]
  },
  {
   "cell_type": "code",
   "execution_count": 27,
   "metadata": {},
   "outputs": [],
   "source": [
    "def append_history(history, h_partition):\n",
    "    for key in h_partition:\n",
    "        history[key] = h_partition[key] if key not in history else history[key] + h_partition[key]"
   ]
  },
  {
   "cell_type": "code",
   "execution_count": 28,
   "metadata": {},
   "outputs": [],
   "source": [
    "def clean_obsolete_history(history, n_last_iter):\n",
    "    for key in history:\n",
    "        history[key] = history[key][-n_last_iter:]"
   ]
  },
  {
   "cell_type": "code",
   "execution_count": 29,
   "metadata": {},
   "outputs": [],
   "source": [
    "import matplotlib\n",
    "import matplotlib.pyplot as plt\n",
    "matplotlib.rcParams['figure.figsize'] = (13, 5)\n",
    "\n",
    "def plot_training_history(history, ylog=False):\n",
    "    plt.plot(history['loss'])\n",
    "    plt.plot(history['val_loss'])\n",
    "    plt.title('Model loss')\n",
    "    plt.ylabel('Loss')\n",
    "    plt.xlabel('Epoch')\n",
    "    plt.legend(['Train', 'Test'], loc='upper left')\n",
    "    if ylog:\n",
    "        plt.yscale('log')\n",
    "    plt.grid(True)\n",
    "    plt.show()\n",
    "    \n",
    "def plot_metric_history(history, metric_name, ylog=False):\n",
    "    plt.plot(history[metric_name])\n",
    "    plt.plot(history['val_' + metric_name])\n",
    "    plt.title('Model ' + metric_name)\n",
    "    plt.ylabel(metric_name)\n",
    "    plt.xlabel('Epoch')\n",
    "    plt.legend(['Train', 'Test'], loc='upper left')\n",
    "    if ylog:\n",
    "        plt.yscale('log')\n",
    "    plt.grid(True)\n",
    "    plt.show()"
   ]
  },
  {
   "cell_type": "code",
   "execution_count": 30,
   "metadata": {},
   "outputs": [],
   "source": [
    "def plot_lr(lr_history):    \n",
    "    plt.plot(lr_history)\n",
    "    plt.title('STLR')\n",
    "    plt.xlabel('# of iterations')\n",
    "    plt.ylabel('Learning rate')\n",
    "    plt.grid(True)\n",
    "    plt.show()"
   ]
  },
  {
   "cell_type": "code",
   "execution_count": 31,
   "metadata": {},
   "outputs": [],
   "source": [
    "def plot_weight_norm(wn_history):    \n",
    "    plt.plot(wn_history)\n",
    "    plt.title('Weights norms')\n",
    "    plt.xlabel('# of iterations')\n",
    "    plt.ylabel('norm')\n",
    "    plt.grid(True)\n",
    "    plt.show()"
   ]
  },
  {
   "cell_type": "markdown",
   "metadata": {},
   "source": [
    "### Network architecture and training\n",
    "\n",
    "Now let's define neural network regressor. It will have 28 outputs, 2 numbers per point. The precise architecture is up to you. We recommend to add 2-3 (`Conv2D` + `MaxPooling2D`) pairs, then `Flatten` and 2-3 `Dense` layers. Don't forget about ReLU activations. We also recommend to add `Dropout` to every `Dense` layer (with p from 0.2 to 0.5) to prevent overfitting.\n"
   ]
  },
  {
   "cell_type": "code",
   "execution_count": 32,
   "metadata": {},
   "outputs": [],
   "source": [
    "class KerasSlantedTriangularLearningRateCallback(keras.callbacks.Callback):\n",
    "    \"\"\"\n",
    "    The slanted triangular learning rate schedule used for ULMFiT https://arxiv.org/pdf/1801.06146.pdf\n",
    "    \"\"\"\n",
    "\n",
    "    def __init__(self,\n",
    "                 lr_max: float = 0.001,\n",
    "                 cut_frac: float = 0.1,\n",
    "                 ratio: float = 32):\n",
    "        self.lr_max = lr_max\n",
    "        self.cut_frac = cut_frac\n",
    "        self.ratio = ratio\n",
    "        self.lr_history = []\n",
    "\n",
    "    def on_train_begin(self, logs = None):\n",
    "        epochs = self.params['epochs']\n",
    "        steps = int(self.params['samples'] // self.params['batch_size']) # self.params['steps']\n",
    "        self.cut = epochs * steps * self.cut_frac\n",
    "        self.iteration = 0\n",
    "\n",
    "    def on_batch_begin(self, batch: int, logs = None):\n",
    "        t = self.iteration\n",
    "        cut = self.cut\n",
    "        if t < cut:\n",
    "            p = t / cut\n",
    "        else:\n",
    "            p = 1 - (t - cut) / (cut * (1 / self.cut_frac - 1))\n",
    "        lr = self.lr_max * (1 + p * (self.ratio - 1)) / self.ratio\n",
    "        \n",
    "        K.set_value(self.model.optimizer.lr, lr)\n",
    "\n",
    "        self.lr_history.append( float(str(K.eval(self.model.optimizer.lr))) )\n",
    "\n",
    "        self.iteration += 1"
   ]
  },
  {
   "cell_type": "code",
   "execution_count": 33,
   "metadata": {},
   "outputs": [],
   "source": [
    "def conv_layer(layer, filters, kernel, activation, stride, dropout, BN, conv_padding, init):\n",
    "    layer = keras.layers.Conv2D(filters=filters,\n",
    "                                kernel_size=(kernel, kernel),\n",
    "                                strides=(stride,stride),\n",
    "                                activation=None,\n",
    "                                padding=conv_padding,\n",
    "                                kernel_initializer=\"glorot_uniform\", #init, #\"glorot_normal\", #keras.initializers.GlorotUniform(),\n",
    "                               )(layer)\n",
    "    if BN:\n",
    "        layer = keras.layers.BatchNormalization(axis=-1)(layer)\n",
    "    layer = keras.layers.Activation(activation)(layer)\n",
    "    #layer = keras.layers.Dropout(0.1)(layer)\n",
    "    return layer"
   ]
  },
  {
   "cell_type": "code",
   "execution_count": 34,
   "metadata": {},
   "outputs": [],
   "source": [
    "def conv_block(layer, filters, kernel, activation, dropout, with_residual, BN, maxpool, conv_padding, init):\n",
    "    residual_connection = layer\n",
    "    layer = conv_layer(layer, filters, kernel, activation, 1, dropout, BN, conv_padding, init)\n",
    "    \n",
    "    if with_residual:\n",
    "        layer = keras.layers.Add()([residual_connection, conv_layer(layer, filters, kernel, activation, 1, dropout, BN, conv_padding, init)])\n",
    "        \n",
    "    if maxpool:\n",
    "        layer = keras.layers.MaxPooling2D(pool_size=2)(layer)\n",
    "    else:\n",
    "        layer = conv_layer(layer, filters, kernel, activation, 2, dropout, BN, conv_padding, init)    \n",
    "    \n",
    "    return layer"
   ]
  },
  {
   "cell_type": "code",
   "execution_count": 35,
   "metadata": {},
   "outputs": [],
   "source": [
    "def dense_layer(layer, n_units, activation, dropout, BN, init):\n",
    "    layer = keras.layers.Dense(n_units, activation=None,\n",
    "                               kernel_initializer=\"glorot_normal\", # init #\"he_uniform\",#tf.keras.initializers.GlorotNormal()\n",
    "                              )(layer)\n",
    "    if BN:\n",
    "        layer = keras.layers.BatchNormalization(axis=-1)(layer)\n",
    "    layer = keras.layers.Activation(activation)(layer)\n",
    "    layer = keras.layers.Dropout(dropout)(layer)\n",
    "    return layer"
   ]
  },
  {
   "cell_type": "code",
   "execution_count": 36,
   "metadata": {},
   "outputs": [],
   "source": [
    "def create_model(activation, dropout, conv_filters, dense_sizes, BN, maxpool, conv_padding, kernels, init):\n",
    "    input = keras.layers.Input(shape=(IMAGE_SIZE[0], IMAGE_SIZE[1], 1))\n",
    "    layer = input\n",
    "    \n",
    "    #if BN:\n",
    "    #    layer = keras.layers.BatchNormalization(axis=-1)(layer)\n",
    "\n",
    "    #layer = keras.layers.Dropout(.1)(layer)\n",
    "    \n",
    "    for i, conv_filter in enumerate(conv_filters):\n",
    "        layer = conv_block(layer, conv_filter, kernels[i], activation, dropout,\n",
    "                           with_residual=False, BN=BN, maxpool=maxpool, conv_padding=conv_padding, init=init)\n",
    "        \n",
    "    #layer = keras.layers.MaxPooling2D(pool_size=2)(layer)\n",
    "    \n",
    "    layer = keras.layers.Flatten()(layer)\n",
    "\n",
    "    for dense_size in dense_sizes:\n",
    "        layer = dense_layer(layer, dense_size, activation, dropout, BN=BN, init=init)\n",
    "    \n",
    "    #layer = keras.layers.Dropout(.2)(layer)\n",
    "    \n",
    "    layer = keras.layers.Dense(28, activation=None, init=\"glorot_normal\")(layer)\n",
    "    model = keras.models.Model(inputs=input, outputs=layer)\n",
    "    return model"
   ]
  },
  {
   "cell_type": "markdown",
   "metadata": {},
   "source": [
    "Time to train! Since we are training a regressor, make sure that you use mean squared error (mse) as loss. Feel free to experiment with optimization method (SGD, Adam, etc.) and its' parameters."
   ]
  },
  {
   "cell_type": "code",
   "execution_count": 37,
   "metadata": {},
   "outputs": [],
   "source": [
    "def create_resnet(GAP, maxpool_size, dense_size, activation, dropout, BN, last_layer_name):\n",
    "    model = keras.applications.resnet50.ResNet50(weights='imagenet',\n",
    "                                                 include_top=False,\n",
    "                                                 pooling=('avg' if GAP else None),\n",
    "                                                 input_tensor=keras.layers.Input(shape=(197, 197, 3))\n",
    "                                                ) # pooling: None, 'max', 'avg'\n",
    "    for layer in model.layers:\n",
    "        layer.trainable = False\n",
    "        \n",
    "    inputs = model.input\n",
    "        \n",
    "    def build_model(layer_name):\n",
    "        layer = model.get_layer(layer_name).output\n",
    "        if GAP:\n",
    "            layer = keras.layers.GlobalAveragePooling2D()(layer)\n",
    "        return layer\n",
    "    \n",
    "    if last_layer_name is None:\n",
    "        layer = model.output\n",
    "    else:\n",
    "        layer = build_model( last_layer_name )\n",
    "        \n",
    "    if not GAP:\n",
    "        if maxpool_size is not None:\n",
    "            layer = keras.layers.MaxPooling2D(pool_size=(maxpool_size, maxpool_size))(layer)\n",
    "        layer = keras.layers.Flatten()(layer)\n",
    "            \n",
    "    #layer = dense_layer(layer, dense_size, activation, dropout, BN)\n",
    "    layer = dense_layer(layer, dense_size, activation, dropout, BN)\n",
    "    layer = dense_layer(layer, dense_size, activation, dropout, BN)\n",
    "\n",
    "    layer = keras.layers.Dense(28, activation=None)(layer)    \n",
    "    model = keras.models.Model(inputs=inputs, outputs=layer)    \n",
    "    return model"
   ]
  },
  {
   "cell_type": "code",
   "execution_count": 38,
   "metadata": {},
   "outputs": [],
   "source": [
    "def unfreeze_resnet(model, train_portion, last_frozen_layer_name):\n",
    "    # last_frozen_layer_name: activation_34 or activation_37\n",
    "    n_frozen = int( len(model.layers) * (1. - train_portion) )\n",
    "    layer_indices = { layer.name: i for i, layer in enumerate(model.layers) }    \n",
    "    last_frozen_layer_ind = layer_indices[ last_frozen_layer_name ]\n",
    "    n_frozen = np.max([n_frozen, last_frozen_layer_ind+1])    \n",
    "    n_unfrozen = len(model.layers) - n_frozen\n",
    "    print(\"n_unfrozen:\", n_unfrozen, \"n_frozen:\", n_frozen)\n",
    "    \n",
    "    for layer in model.layers[ - n_unfrozen : ]:\n",
    "        layer.trainable = True\n",
    "    \n",
    "    compile_model(model) # https://stackoverflow.com/questions/47995324/does-model-compile-initialize-all-the-weights-and-biases-in-keras-tensorflow/47996024"
   ]
  },
  {
   "cell_type": "code",
   "execution_count": 39,
   "metadata": {},
   "outputs": [],
   "source": [
    "def get_weight_norm(model):\n",
    "    weight_norms = []    \n",
    "    for layer in model.layers:\n",
    "        weights = layer.get_weights()\n",
    "        if len(weights) > 0:\n",
    "            weight_norms.append( np.linalg.norm( weights[0] ) )\n",
    "    return np.mean( weight_norms )"
   ]
  },
  {
   "cell_type": "code",
   "execution_count": 40,
   "metadata": {},
   "outputs": [],
   "source": [
    "def smooth_L1_loss(y_true, y_pred):\n",
    "    return tf.losses.huber_loss(y_true, y_pred)"
   ]
  },
  {
   "cell_type": "code",
   "execution_count": 41,
   "metadata": {},
   "outputs": [],
   "source": [
    "def coeff_determination(y_true, y_pred):\n",
    "    from keras import backend as K\n",
    "    SS_res =  K.sum(K.square( y_true-y_pred ))\n",
    "    SS_tot = K.sum(K.square( y_true - K.mean(y_true) ) )\n",
    "    return ( 1 - SS_res/(SS_tot + K.epsilon()) )"
   ]
  },
  {
   "cell_type": "code",
   "execution_count": 42,
   "metadata": {},
   "outputs": [],
   "source": [
    "def compile_model(model, optimizer, lr, loss):\n",
    "    #optimizer = keras.optimizers.SGD(lr=0.1, momentum=0.5, decay=0.001, nesterov=False)\n",
    "    \n",
    "    if optimizer == \"adam\":\n",
    "        optimizer = keras.optimizers.Adam(lr=lr) # , clipnorm=1.0 , clipvalue=0.5 #, beta_1=0.9, beta_2=0.99, amsgrad=False\n",
    "    #optimizer = keras.optimizers.Adadelta(lr=0.01, rho=0.97)\n",
    "    \n",
    "    if optimizer == \"rmsprop\":\n",
    "        optimizer = keras.optimizers.RMSprop(lr=lr, clipnorm=1.0)\n",
    "    #optimizer = keras.optimizers.Nadam()\n",
    "\n",
    "    model.compile(loss = loss,\n",
    "                  optimizer = optimizer,\n",
    "                  metrics = [coeff_determination])\n",
    "\n",
    "    #model.summary()"
   ]
  },
  {
   "cell_type": "code",
   "execution_count": 43,
   "metadata": {},
   "outputs": [],
   "source": [
    "def train_resnet(model, n_iter, n_internal_iter, lr_max, lr_max_unfreeze, last_frozen_layer_name):\n",
    "    \n",
    "    weight_norm_history = []\n",
    "    history = {}\n",
    "    lr_history = []\n",
    "    \n",
    "    compile_model(model)\n",
    "    \n",
    "    #stlr = KerasSlantedTriangularLearningRateCallback(lr_max = lr_max)\n",
    "    \n",
    "    for i in range(n_iter):\n",
    "        print(\"high-level iteration:\", i)\n",
    "        if i > 0:\n",
    "            unfreeze_resnet(model, i / n_iter, last_frozen_layer_name)\n",
    "            #stlr = KerasSlantedTriangularLearningRateCallback(lr_max = (lr_max_unfreeze / i))\n",
    "            \n",
    "        h_partition = model.fit(model_input_imgs_train, points_train,\n",
    "                                batch_size=32,\n",
    "                                epochs=n_internal_iter,\n",
    "                                verbose=1,\n",
    "                                validation_data=(model_input_imgs_val, points_val)\n",
    "                                ) # callbacks=[ stlr ]\n",
    "        \n",
    "        weight_norm_history.append( get_weight_norm(model) )\n",
    "        append_history(history, h_partition.history)\n",
    "        #lr_history += stlr.lr_history\n",
    "    \n",
    "    return history, weight_norm_history, lr_history"
   ]
  },
  {
   "cell_type": "code",
   "execution_count": 44,
   "metadata": {},
   "outputs": [],
   "source": [
    "def run_resnet_experiment(experiment_id, n_iter, n_internal_iter, lr_max, lr_max_unfreeze,\n",
    "                          GAP, maxpool_size, dense_size, activation, dropout,\n",
    "                          BN, last_layer_name, last_frozen_layer_name):\n",
    "    sess = tf.InteractiveSession()\n",
    "    K.set_session(sess)\n",
    "    \n",
    "    print(\"----------------------\")\n",
    "    print(experiment_id)\n",
    "    print(\"params:\", GAP, maxpool_size, dense_size, activation, dropout, BN, last_layer_name, last_frozen_layer_name)\n",
    "    \n",
    "    model = create_resnet(GAP, maxpool_size, dense_size, activation, dropout, BN, last_layer_name)\n",
    "    model.summary()\n",
    "    history, weight_norm_history, lr_history = train_resnet(model, n_iter, n_internal_iter, lr_max,\n",
    "                                                            lr_max_unfreeze, last_frozen_layer_name)\n",
    "    \n",
    "    val_loss = np.round( np.mean(history['val_loss'][-5:]), 4 )    \n",
    "        \n",
    "    print(\"----------------------\")\n",
    "    print(experiment_id)    \n",
    "    print(\"val_loss:\", val_loss)\n",
    "    print(\"params:\", GAP, maxpool_size, dense_size, activation, dropout, BN, last_layer_name, last_frozen_layer_name)\n",
    "    print(\"----------------------\")\n",
    "    \n",
    "    with open( 'resnet_hyperparams.txt', 'a') as file:\n",
    "        file.write( str((experiment_id, n_iter, n_internal_iter, lr_max, lr_max_unfreeze,\n",
    "                         GAP, maxpool_size, dense_size, activation, dropout, BN, last_layer_name,\n",
    "                         last_frozen_layer_name,\n",
    "                         val_loss)) + '\\n')\n",
    "        \n",
    "    model.save('resnet_models/rn_facial_keypoints_regressor_{}.h5'.format(experiment_id))\n",
    "    \n",
    "    sess.close()    \n",
    "    K.clear_session()\n",
    "    gc.collect()\n",
    "    \n",
    "    return model, history, weight_norm_history"
   ]
  },
  {
   "cell_type": "markdown",
   "metadata": {},
   "source": [
    "hist_set = []\n",
    "for experiment_id in range(31, 1000):\n",
    "    n_iter = 15\n",
    "    n_internal_iter = 3\n",
    "    lr_max = 0.1\n",
    "    lr_max_unfreeze = 0.001    \n",
    "    GAP = False # np.random.choice( [False, True] )\n",
    "    maxpool_size = None # 3 # np.random.choice( [ 2, 3] )\n",
    "    dense_size = 1024 #np.random.choice( [ 256, 512, 1024 ] )\n",
    "    activation = 'selu' #np.random.choice( [ \"relu\", \"selu\" ] )\n",
    "    dropout = 0.3 # np.random.choice( [ 0.3, 0.5 ] )\n",
    "    BN = True\n",
    "    last_layer_name = None # np.random.choice( [\"activation_22\", \"activation_40\", None] )\n",
    "    last_frozen_layer_name = np.random.choice( [ \"activation_34\", \"activation_37\" ] )\n",
    "    model, history, weight_norm_history = run_resnet_experiment(experiment_id,\n",
    "                                                                n_iter,\n",
    "                                                                n_internal_iter,\n",
    "                                                                lr_max,\n",
    "                                                                lr_max_unfreeze,\n",
    "                                                                GAP,\n",
    "                                                                maxpool_size,\n",
    "                                                                dense_size,\n",
    "                                                                activation,\n",
    "                                                                dropout,\n",
    "                                                                BN,\n",
    "                                                                last_layer_name,\n",
    "                                                                last_frozen_layer_name)\n",
    "    hist_set.append( history )\n",
    "    plot_training_history(history, ylog=True)\n",
    "    plot_weight_norm(weight_norm_history)\n",
    "    print(\"==================================\")"
   ]
  },
  {
   "cell_type": "code",
   "execution_count": 45,
   "metadata": {},
   "outputs": [],
   "source": [
    "def train(model, epochs, patience, lr_max, optimizer, lr, loss):\n",
    "    compile_model(model, optimizer, lr, loss)\n",
    "    \n",
    "    stlr = KerasSlantedTriangularLearningRateCallback(lr_max = lr_max)\n",
    "    #estop = keras.callbacks.EarlyStopping(   monitor='val_acc', # 'val_loss',\n",
    "    #                                         patience=patience,\n",
    "    #                                         verbose=1,\n",
    "    #                                         mode=\"auto\")\n",
    "    \n",
    "    history = model.fit(model_input_imgs_train, points_train,\n",
    "                        batch_size=768,\n",
    "                        epochs=epochs,\n",
    "                        verbose=1,\n",
    "                        validation_data=(model_input_imgs_val, points_val),\n",
    "                        callbacks=[stlr])    \n",
    "            \n",
    "    weight_norm = get_weight_norm(model)\n",
    "    \n",
    "    return history.history, weight_norm, None"
   ]
  },
  {
   "cell_type": "code",
   "execution_count": 46,
   "metadata": {},
   "outputs": [],
   "source": [
    "def run_experiment(experiment_id, activation, dropout, conv_filters, dense_sizes, BN,\n",
    "                   epochs, patience, lr_max, optimizer, lr, maxpool, conv_padding, kernels, loss, init, sess):\n",
    "    \n",
    "    if sess is not None:\n",
    "        sess.close()    \n",
    "        \n",
    "    K.clear_session()    \n",
    "    sess = tf.InteractiveSession()\n",
    "    K.set_session(sess)\n",
    "    \n",
    "    print(\"----------------------\")\n",
    "    print(\"params:\", activation, dropout, conv_filters, dense_sizes, BN, optimizer,\n",
    "                     lr, maxpool, patience, conv_padding, kernels,\n",
    "                     loss, init)\n",
    "    \n",
    "    model = create_model(activation, dropout, conv_filters, dense_sizes, BN, maxpool, conv_padding, kernels, init)\n",
    "    model.summary()\n",
    "    history, weight_norm, lr_history = train(model, epochs, patience, lr_max, optimizer, lr, loss)\n",
    "    \n",
    "    if patience != 0:\n",
    "        val_loss = np.round( np.mean(history['val_loss'][-(patience+5):-patience]), 4 )\n",
    "        val_coeff_determination = np.round( np.mean(history['val_coeff_determination'][-(patience+5):-patience]), 4 )\n",
    "    else:\n",
    "        val_loss = np.round( np.mean(history['val_loss'][-5:]), 4 )\n",
    "        val_coeff_determination = np.round( np.mean(history['val_coeff_determination'][-5:]), 4 )\n",
    "    epochs = len(history['val_loss'])\n",
    "    weight_norm = np.round(weight_norm)\n",
    "    \n",
    "    print(\"----------------------\")\n",
    "    print(experiment_id)    \n",
    "    print(\"val_loss:\", val_loss, \"val_coeff_determination:\", val_coeff_determination, \"epochs:\", epochs)\n",
    "    print(\"params:\", activation, dropout, conv_filters, dense_sizes, BN, optimizer,\n",
    "                     lr, maxpool, patience, conv_padding, kernels,\n",
    "                     loss, init)\n",
    "    print(\"----------------------\")\n",
    "    \n",
    "    with open( 'hyperparams.txt', 'a') as file:\n",
    "        file.write( str((experiment_id, activation, dropout, conv_filters, dense_sizes,\n",
    "                         BN, epochs, weight_norm, lr_max, optimizer, lr, maxpool, patience,\n",
    "                         conv_padding, kernels, loss, init,\n",
    "                         val_loss, val_coeff_determination)) + '\\n')\n",
    "        \n",
    "    model.save('models/facial_keypoints_regressor_{}.h5'.format(experiment_id))\n",
    "    \n",
    "    sess.close()    \n",
    "    K.clear_session()\n",
    "    gc.collect()\n",
    "    \n",
    "    return model, history, weight_norm, sess"
   ]
  },
  {
   "cell_type": "markdown",
   "metadata": {},
   "source": [
    "hist_set = []\n",
    "for experiment_id in range(2618, 4000):\n",
    "    activation = np.random.choice( [\"relu\"] )\n",
    "    conv_filters = [ [16, 16, 16], [16, 16, 32], [16, 32, 32], [32, 32, 32] ]\n",
    "    kernels = [ [3, 3, 3], [7, 3, 3], [3, 3, 3], [5, 3, 3] ]\n",
    "    conv_filters_idx = np.random.choice( len(conv_filters) )\n",
    "    conv_filters = conv_filters[ conv_filters_idx ]    \n",
    "    kernels = kernels[ conv_filters_idx ]\n",
    "    conv_padding = np.random.choice( [\"valid\"] )\n",
    "    dropout = np.random.choice([ 0.1, 0.2, 0.3 ])\n",
    "    dense_sizes = [ [512, 32], [512, 64], [512, 128], [512, 256], [512, 512] ]\n",
    "    dense_sizes = dense_sizes[ np.random.choice( len(dense_sizes) ) ]\n",
    "    init = \"glorot\" # np.random.choice([ \"glorot_normal\", \"glorot_uniform\", \"he_normal\", \"he_uniform\" ])\n",
    "    BN = np.random.choice([ True ])\n",
    "    lr_max = np.random.choice([ 0.01, 0.05, 0.1, 0.5 ])\n",
    "    epochs = 5\n",
    "    patience = 0 # np.random.choice([ 10 ])\n",
    "    optimizer = np.random.choice([\"adam\"])\n",
    "    loss = smooth_L1_loss # np.random.choice( [smooth_L1_loss, \"mse\"] )\n",
    "    lr = np.random.choice([ 0.001 ])\n",
    "    maxpool = np.random.choice( [ True ] )\n",
    "    sess = None\n",
    "    \n",
    "    try:\n",
    "        model, history, weight_norm, sess = run_experiment(experiment_id, activation, dropout, conv_filters,\n",
    "                                                     dense_sizes, BN, epochs, patience, lr_max, optimizer, lr,\n",
    "                                                     maxpool, conv_padding, kernels, loss, init, sess)\n",
    "        hist_set.append( history )\n",
    "        plot_training_history(history, ylog=True)\n",
    "        plot_metric_history(history, \"coeff_determination\", ylog=False)\n",
    "        print(\"weight_norm:\", weight_norm)\n",
    "    except Exception as ex:\n",
    "        print(ex)    \n",
    "    \n",
    "    print(\"==================================\")"
   ]
  },
  {
   "cell_type": "code",
   "execution_count": 47,
   "metadata": {},
   "outputs": [],
   "source": [
    "from keras.utils.generic_utils import get_custom_objects\n",
    "get_custom_objects().update({\"smooth_L1_loss\": smooth_L1_loss, \"coeff_determination\": coeff_determination})\n",
    "#model = load_model('models/facial_keypoints_regressor_3971.h5')"
   ]
  },
  {
   "cell_type": "markdown",
   "metadata": {},
   "source": [
    "### Visualize results"
   ]
  },
  {
   "cell_type": "markdown",
   "metadata": {},
   "source": [
    "Now visualize neural network results on several images from validation sample. Make sure that your network outputs different points for images (i.e. it doesn't output some constant)."
   ]
  },
  {
   "cell_type": "code",
   "execution_count": 48,
   "metadata": {},
   "outputs": [],
   "source": [
    "#def predict(img_data, img_display):\n",
    "#    points_pred = model.predict(img_data.reshape((1, IMAGE_SIZE[0], IMAGE_SIZE[1], 1)))[0]\n",
    "#    visualize_points(img_display, points_pred)"
   ]
  },
  {
   "cell_type": "code",
   "execution_count": 60,
   "metadata": {},
   "outputs": [],
   "source": [
    "def plot_images(images, points_list, folder):\n",
    "    images = np.array(images)\n",
    "    figure = plt.figure(figsize=(15, 15))\n",
    "    for i in range(len(images)):\n",
    "        plt.subplot(5, 5, i+1)\n",
    "        image = images[i, :]\n",
    "        points = points_list[i, :]\n",
    "        visualize_points(image, points)\n",
    "        plt.axis('off')\n",
    "    #plt.show()\n",
    "    with open('{}/{}.png'.format(folder, experiment_id), 'wb') as file:\n",
    "        figure.savefig(file, bbox_inches='tight')\n",
    "        plt.close(figure)"
   ]
  },
  {
   "cell_type": "code",
   "execution_count": 61,
   "metadata": {},
   "outputs": [],
   "source": [
    "def predict(model, imgs_data, imgs_display, folder):\n",
    "    points_pred = model.predict(np.array(imgs_data))\n",
    "    plot_images(imgs_display, points_pred, folder)"
   ]
  },
  {
   "cell_type": "code",
   "execution_count": 62,
   "metadata": {},
   "outputs": [],
   "source": [
    "#predict(model_input_facerecogn_images[:5].tolist() + model_input_imgs_val[:5].tolist(),\n",
    "#         facerecogn_images[:5].tolist() + imgs_val[:5].tolist())"
   ]
  },
  {
   "cell_type": "code",
   "execution_count": null,
   "metadata": {},
   "outputs": [],
   "source": [
    "for experiment_id in range(2058, 4000):\n",
    "    print (\"======= Experiment: {} =======\".format(experiment_id))\n",
    "    try:\n",
    "        model = load_model('models/facial_keypoints_regressor_{}.h5'.format(experiment_id))\n",
    "        predict(model,\n",
    "                model_input_facerecogn_images[:5].tolist() + model_input_imgs_val[:5].tolist(),\n",
    "                facerecogn_images[:5].tolist() + imgs_val[:5].tolist(),\n",
    "                'output_examples')\n",
    "        K.clear_session()\n",
    "        gc.collect()\n",
    "    except Exception as ex:\n",
    "        print(ex)"
   ]
  },
  {
   "cell_type": "code",
   "execution_count": null,
   "metadata": {},
   "outputs": [],
   "source": [
    "for experiment_id in [1681, 1685, 1686, 1687, 1688,\n",
    "                      1700, 1718, 1740, 1760, 1762, 1782,\n",
    "                      1811, 1828, 1832, 1857, 1875,\n",
    "                      1907, 1944, 1945, 1962, 1971, 1994,\n",
    "                      2000, 2085, 2196, 2446, 2529, 2547, 2574, 2580, 2597, 2608, ]:\n",
    "    print (\"======= Experiment: {} =======\".format(experiment_id))\n",
    "    try:\n",
    "        model = load_model('models/facial_keypoints_regressor_{}.h5'.format(experiment_id))\n",
    "        predict(model,\n",
    "                #model_input_facerecogn_images[:25].tolist(),\n",
    "                model_input_imgs_val[:25].tolist(),\n",
    "                #facerecogn_images[:25].tolist(),\n",
    "                imgs_val[:25].tolist(),\n",
    "                'good_output_examples')        \n",
    "    except Exception as ex:\n",
    "        print(ex)\n",
    "        \n",
    "    K.clear_session()\n",
    "    gc.collect()"
   ]
  },
  {
   "cell_type": "markdown",
   "metadata": {},
   "source": [
    "We choose model models/facial_keypoints_regressor_1681.h5"
   ]
  }
 ],
 "metadata": {
  "kernelspec": {
   "display_name": "Python 3",
   "language": "python",
   "name": "python3"
  },
  "language_info": {
   "codemirror_mode": {
    "name": "ipython",
    "version": 3
   },
   "file_extension": ".py",
   "mimetype": "text/x-python",
   "name": "python",
   "nbconvert_exporter": "python",
   "pygments_lexer": "ipython3",
   "version": "3.7.7"
  }
 },
 "nbformat": 4,
 "nbformat_minor": 1
}
